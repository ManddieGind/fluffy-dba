{
  "nbformat": 4,
  "nbformat_minor": 0,
  "metadata": {
    "colab": {
      "name": "Práctica0.ipynb",
      "version": "0.3.2",
      "provenance": [],
      "collapsed_sections": []
    },
    "kernelspec": {
      "name": "python2",
      "display_name": "Python 2"
    }
  },
  "cells": [
    {
      "cell_type": "markdown",
      "metadata": {
        "id": "EMqp61cR9HL9",
        "colab_type": "text"
      },
      "source": [
        "# PRÁCTICA 0\n",
        "## MEDEL BRAVO MARGARITA"
      ]
    }
  ]
}
